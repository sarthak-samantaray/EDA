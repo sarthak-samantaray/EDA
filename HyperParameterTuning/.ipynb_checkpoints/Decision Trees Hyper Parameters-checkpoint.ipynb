{
 "cells": [
  {
   "cell_type": "markdown",
   "id": "45bb953f",
   "metadata": {},
   "source": [
    "# Decision Trees Hyper Parameters."
   ]
  },
  {
   "cell_type": "markdown",
   "id": "2fed4694",
   "metadata": {},
   "source": [
    "1. **max_depth** : The depth of the tree, it is the main cause of OVERFITTING OR UNDERFITTING.<br>\n",
    "If max_depth = None, then there is a chance of overfitting, because of too much of splitting of data.<br>\n",
    "If max_depth = 1, then there is a chance of underfitting. because, after 1 spplit there will not other split and the decision will be made on majority of classes, if one classes has higher number of occurance it will be asigned to that class.\n",
    "\n",
    "2. **Criteria** : Gini or entropy\n",
    "\n",
    "3. **Splitter** : setting the splitter as random, we can dodge overfitting.\n",
    "\n",
    "4. **min_sample_split** : For example if we set min_sample_split as 100, it will stop the splitting as soon as there is a node with less than 100 rows, there will be no further splitting done. <u>The more the value , underfitting will occur, less value will make the model to overfit.</u>\n",
    "\n",
    "5. **min_sample_leaf** :  <u>The more the value , underfitting will occur, less value will make the model to overfit.</u>, it means, if a node has a total of more than 100 rows it will not split further.\n",
    "\n",
    "6. **max_features** : How many columns you want to give to your model, for example if you give 5, then it will find the information gain in any of the 5 columns. it is choosen randomly.\n",
    "\n",
    "7. **max_leaf_nodes** : How many leaf nodes you want. higher = overfitting, lower = underfitting.\n",
    "\n",
    "8. **min_impurity_decrease** : higher = underfitting, lower = overfitting, it means\n",
    "\n",
    "\n",
    "\n",
    " "
   ]
  },
  {
   "cell_type": "code",
   "execution_count": null,
   "id": "c4b94742",
   "metadata": {},
   "outputs": [],
   "source": []
  }
 ],
 "metadata": {
  "kernelspec": {
   "display_name": "Python 3 (ipykernel)",
   "language": "python",
   "name": "python3"
  },
  "language_info": {
   "codemirror_mode": {
    "name": "ipython",
    "version": 3
   },
   "file_extension": ".py",
   "mimetype": "text/x-python",
   "name": "python",
   "nbconvert_exporter": "python",
   "pygments_lexer": "ipython3",
   "version": "3.9.12"
  }
 },
 "nbformat": 4,
 "nbformat_minor": 5
}
