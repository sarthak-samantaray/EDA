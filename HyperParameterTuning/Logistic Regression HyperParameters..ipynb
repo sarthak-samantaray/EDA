{
 "cells": [
  {
   "cell_type": "markdown",
   "id": "9f517957",
   "metadata": {},
   "source": [
    "# Hyper Parameters of LOGISTIC REGRESSION."
   ]
  },
  {
   "cell_type": "markdown",
   "id": "fd29dcdf",
   "metadata": {},
   "source": [
    "## About Regularization.\n",
    "It is a technique where we add some more information to reduce overfitting.<br>\n",
    "1. RIDGE(l2)\n",
    "2. LASSO(l1)\n",
    "3. ELastic(ridge+lasso)\n",
    "<hr>\n",
    "Overfitting : It means, the model is working very well on the training data but not on the test data.<br>\n",
    "**In terms of linear regression , where y=mx+c, overfitting is when m value is very high.**<br>\n",
    "<hr>"
   ]
  },
  {
   "cell_type": "markdown",
   "id": "a89a96c1",
   "metadata": {},
   "source": [
    "1. **PENALTY** : ridge,lasso,elastic\n",
    "2. **tol** : This is the stoppiing parameter for your gradient descent, the smaller the value, the more you will be dependent upon the number of iterations. And if the value is more then, your descent will stop early.\n",
    "3. **C** : It is used if we are using regularization, c = 1/lambda(which is used in regularication).\n",
    "The smaller the value, more powerful is the regularization.\n",
    "4. **class_weight** : It is used when the data is imbalanced. If a certain class is dominating on other. for example, if there are 80% of class1 and 20% of class2.\n",
    "5. **solver** : Refer sklearn documention when to apply which solver.\n",
    "6. **max_iter** : The number of epochs your algorithm takes to converge.\n",
    "7. **Multiclass** : set it to auto for best result. \n",
    "8. **warm_start** : If we stopped the training in the middle, it can be resumed from where it has left off.\n",
    "9. **n_jobs** : if set to -1, it will use all the cpu cores.\n",
    "10. **l1_ratio** : if equal to 0 that is l2, if equal to 1, that is l1. If inbetween 0 and 1 , mixture of both l1 and l2."
   ]
  }
 ],
 "metadata": {
  "kernelspec": {
   "display_name": "Python 3 (ipykernel)",
   "language": "python",
   "name": "python3"
  },
  "language_info": {
   "codemirror_mode": {
    "name": "ipython",
    "version": 3
   },
   "file_extension": ".py",
   "mimetype": "text/x-python",
   "name": "python",
   "nbconvert_exporter": "python",
   "pygments_lexer": "ipython3",
   "version": "3.9.12"
  }
 },
 "nbformat": 4,
 "nbformat_minor": 5
}
