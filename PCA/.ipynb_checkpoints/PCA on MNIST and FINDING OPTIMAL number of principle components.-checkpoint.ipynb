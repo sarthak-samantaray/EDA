{
 "cells": [
  {
   "cell_type": "code",
   "execution_count": 1,
   "id": "a2590cc3",
   "metadata": {},
   "outputs": [],
   "source": [
    "import pandas as pd\n",
    "import numpy as np"
   ]
  },
  {
   "cell_type": "code",
   "execution_count": 2,
   "id": "eed645ce",
   "metadata": {},
   "outputs": [],
   "source": [
    "df = pd.read_csv(\"E://Datasets/MNIST DATA/train.csv\")"
   ]
  },
  {
   "cell_type": "code",
   "execution_count": 3,
   "id": "fb0b435a",
   "metadata": {},
   "outputs": [
    {
     "data": {
      "text/html": [
       "<div>\n",
       "<style scoped>\n",
       "    .dataframe tbody tr th:only-of-type {\n",
       "        vertical-align: middle;\n",
       "    }\n",
       "\n",
       "    .dataframe tbody tr th {\n",
       "        vertical-align: top;\n",
       "    }\n",
       "\n",
       "    .dataframe thead th {\n",
       "        text-align: right;\n",
       "    }\n",
       "</style>\n",
       "<table border=\"1\" class=\"dataframe\">\n",
       "  <thead>\n",
       "    <tr style=\"text-align: right;\">\n",
       "      <th></th>\n",
       "      <th>label</th>\n",
       "      <th>pixel0</th>\n",
       "      <th>pixel1</th>\n",
       "      <th>pixel2</th>\n",
       "      <th>pixel3</th>\n",
       "      <th>pixel4</th>\n",
       "      <th>pixel5</th>\n",
       "      <th>pixel6</th>\n",
       "      <th>pixel7</th>\n",
       "      <th>pixel8</th>\n",
       "      <th>...</th>\n",
       "      <th>pixel774</th>\n",
       "      <th>pixel775</th>\n",
       "      <th>pixel776</th>\n",
       "      <th>pixel777</th>\n",
       "      <th>pixel778</th>\n",
       "      <th>pixel779</th>\n",
       "      <th>pixel780</th>\n",
       "      <th>pixel781</th>\n",
       "      <th>pixel782</th>\n",
       "      <th>pixel783</th>\n",
       "    </tr>\n",
       "  </thead>\n",
       "  <tbody>\n",
       "    <tr>\n",
       "      <th>0</th>\n",
       "      <td>1</td>\n",
       "      <td>0</td>\n",
       "      <td>0</td>\n",
       "      <td>0</td>\n",
       "      <td>0</td>\n",
       "      <td>0</td>\n",
       "      <td>0</td>\n",
       "      <td>0</td>\n",
       "      <td>0</td>\n",
       "      <td>0</td>\n",
       "      <td>...</td>\n",
       "      <td>0</td>\n",
       "      <td>0</td>\n",
       "      <td>0</td>\n",
       "      <td>0</td>\n",
       "      <td>0</td>\n",
       "      <td>0</td>\n",
       "      <td>0</td>\n",
       "      <td>0</td>\n",
       "      <td>0</td>\n",
       "      <td>0</td>\n",
       "    </tr>\n",
       "    <tr>\n",
       "      <th>1</th>\n",
       "      <td>0</td>\n",
       "      <td>0</td>\n",
       "      <td>0</td>\n",
       "      <td>0</td>\n",
       "      <td>0</td>\n",
       "      <td>0</td>\n",
       "      <td>0</td>\n",
       "      <td>0</td>\n",
       "      <td>0</td>\n",
       "      <td>0</td>\n",
       "      <td>...</td>\n",
       "      <td>0</td>\n",
       "      <td>0</td>\n",
       "      <td>0</td>\n",
       "      <td>0</td>\n",
       "      <td>0</td>\n",
       "      <td>0</td>\n",
       "      <td>0</td>\n",
       "      <td>0</td>\n",
       "      <td>0</td>\n",
       "      <td>0</td>\n",
       "    </tr>\n",
       "    <tr>\n",
       "      <th>2</th>\n",
       "      <td>1</td>\n",
       "      <td>0</td>\n",
       "      <td>0</td>\n",
       "      <td>0</td>\n",
       "      <td>0</td>\n",
       "      <td>0</td>\n",
       "      <td>0</td>\n",
       "      <td>0</td>\n",
       "      <td>0</td>\n",
       "      <td>0</td>\n",
       "      <td>...</td>\n",
       "      <td>0</td>\n",
       "      <td>0</td>\n",
       "      <td>0</td>\n",
       "      <td>0</td>\n",
       "      <td>0</td>\n",
       "      <td>0</td>\n",
       "      <td>0</td>\n",
       "      <td>0</td>\n",
       "      <td>0</td>\n",
       "      <td>0</td>\n",
       "    </tr>\n",
       "    <tr>\n",
       "      <th>3</th>\n",
       "      <td>4</td>\n",
       "      <td>0</td>\n",
       "      <td>0</td>\n",
       "      <td>0</td>\n",
       "      <td>0</td>\n",
       "      <td>0</td>\n",
       "      <td>0</td>\n",
       "      <td>0</td>\n",
       "      <td>0</td>\n",
       "      <td>0</td>\n",
       "      <td>...</td>\n",
       "      <td>0</td>\n",
       "      <td>0</td>\n",
       "      <td>0</td>\n",
       "      <td>0</td>\n",
       "      <td>0</td>\n",
       "      <td>0</td>\n",
       "      <td>0</td>\n",
       "      <td>0</td>\n",
       "      <td>0</td>\n",
       "      <td>0</td>\n",
       "    </tr>\n",
       "    <tr>\n",
       "      <th>4</th>\n",
       "      <td>0</td>\n",
       "      <td>0</td>\n",
       "      <td>0</td>\n",
       "      <td>0</td>\n",
       "      <td>0</td>\n",
       "      <td>0</td>\n",
       "      <td>0</td>\n",
       "      <td>0</td>\n",
       "      <td>0</td>\n",
       "      <td>0</td>\n",
       "      <td>...</td>\n",
       "      <td>0</td>\n",
       "      <td>0</td>\n",
       "      <td>0</td>\n",
       "      <td>0</td>\n",
       "      <td>0</td>\n",
       "      <td>0</td>\n",
       "      <td>0</td>\n",
       "      <td>0</td>\n",
       "      <td>0</td>\n",
       "      <td>0</td>\n",
       "    </tr>\n",
       "  </tbody>\n",
       "</table>\n",
       "<p>5 rows × 785 columns</p>\n",
       "</div>"
      ],
      "text/plain": [
       "   label  pixel0  pixel1  pixel2  pixel3  pixel4  pixel5  pixel6  pixel7  \\\n",
       "0      1       0       0       0       0       0       0       0       0   \n",
       "1      0       0       0       0       0       0       0       0       0   \n",
       "2      1       0       0       0       0       0       0       0       0   \n",
       "3      4       0       0       0       0       0       0       0       0   \n",
       "4      0       0       0       0       0       0       0       0       0   \n",
       "\n",
       "   pixel8  ...  pixel774  pixel775  pixel776  pixel777  pixel778  pixel779  \\\n",
       "0       0  ...         0         0         0         0         0         0   \n",
       "1       0  ...         0         0         0         0         0         0   \n",
       "2       0  ...         0         0         0         0         0         0   \n",
       "3       0  ...         0         0         0         0         0         0   \n",
       "4       0  ...         0         0         0         0         0         0   \n",
       "\n",
       "   pixel780  pixel781  pixel782  pixel783  \n",
       "0         0         0         0         0  \n",
       "1         0         0         0         0  \n",
       "2         0         0         0         0  \n",
       "3         0         0         0         0  \n",
       "4         0         0         0         0  \n",
       "\n",
       "[5 rows x 785 columns]"
      ]
     },
     "execution_count": 3,
     "metadata": {},
     "output_type": "execute_result"
    }
   ],
   "source": [
    "df.head()"
   ]
  },
  {
   "cell_type": "code",
   "execution_count": 4,
   "id": "5fc4811e",
   "metadata": {},
   "outputs": [
    {
     "data": {
      "text/plain": [
       "(42000, 785)"
      ]
     },
     "execution_count": 4,
     "metadata": {},
     "output_type": "execute_result"
    }
   ],
   "source": [
    "df.shape"
   ]
  },
  {
   "cell_type": "code",
   "execution_count": 5,
   "id": "f2724a1c",
   "metadata": {},
   "outputs": [
    {
     "data": {
      "text/plain": [
       "<matplotlib.image.AxesImage at 0x24d0220e100>"
      ]
     },
     "execution_count": 5,
     "metadata": {},
     "output_type": "execute_result"
    },
    {
     "data": {
      "image/png": "[encoded data removed]",
      "text/plain": [
       "<Figure size 432x288 with 1 Axes>"
      ]
     },
     "metadata": {
      "needs_background": "light"
     },
     "output_type": "display_data"
    }
   ],
   "source": [
    "import matplotlib.pyplot as plt\n",
    "plt.imshow(df.iloc[3,1:].values.reshape(28,28))"
   ]
  },
  {
   "cell_type": "markdown",
   "id": "a4666213",
   "metadata": {},
   "source": [
    "# Without any PCA."
   ]
  },
  {
   "cell_type": "code",
   "execution_count": 6,
   "id": "bfa989e6",
   "metadata": {},
   "outputs": [],
   "source": [
    "x = df.iloc[:,1:]\n",
    "y = df.iloc[:,0]"
   ]
  },
  {
   "cell_type": "code",
   "execution_count": 7,
   "id": "17c288f5",
   "metadata": {},
   "outputs": [],
   "source": [
    "from sklearn.model_selection import train_test_split\n",
    "x_train,x_test,y_train,y_test = train_test_split(x,y,test_size=0.2,random_state=42)"
   ]
  },
  {
   "cell_type": "code",
   "execution_count": 8,
   "id": "65b2fd80",
   "metadata": {},
   "outputs": [
    {
     "data": {
      "text/plain": [
       "(33600, 784)"
      ]
     },
     "execution_count": 8,
     "metadata": {},
     "output_type": "execute_result"
    }
   ],
   "source": [
    "x_train.shape"
   ]
  },
  {
   "cell_type": "code",
   "execution_count": 9,
   "id": "493aa742",
   "metadata": {},
   "outputs": [],
   "source": [
    "from sklearn.neighbors import KNeighborsClassifier"
   ]
  },
  {
   "cell_type": "code",
   "execution_count": 10,
   "id": "ef3eb0aa",
   "metadata": {},
   "outputs": [],
   "source": [
    "knn = KNeighborsClassifier()"
   ]
  },
  {
   "cell_type": "code",
   "execution_count": 11,
   "id": "645ab14f",
   "metadata": {},
   "outputs": [
    {
     "data": {
      "text/html": [
       "<style>#sk-container-id-1 {color: black;background-color: white;}#sk-container-id-1 pre{padding: 0;}#sk-container-id-1 div.sk-toggleable {background-color: white;}#sk-container-id-1 label.sk-toggleable__label {cursor: pointer;display: block;width: 100%;margin-bottom: 0;padding: 0.3em;box-sizing: border-box;text-align: center;}#sk-container-id-1 label.sk-toggleable__label-arrow:before {content: \"▸\";float: left;margin-right: 0.25em;color: #696969;}#sk-container-id-1 label.sk-toggleable__label-arrow:hover:before {color: black;}#sk-container-id-1 div.sk-estimator:hover label.sk-toggleable__label-arrow:before {color: black;}#sk-container-id-1 div.sk-toggleable__content {max-height: 0;max-width: 0;overflow: hidden;text-align: left;background-color: #f0f8ff;}#sk-container-id-1 div.sk-toggleable__content pre {margin: 0.2em;color: black;border-radius: 0.25em;background-color: #f0f8ff;}#sk-container-id-1 input.sk-toggleable__control:checked~div.sk-toggleable__content {max-height: 200px;max-width: 100%;overflow: auto;}#sk-container-id-1 input.sk-toggleable__control:checked~label.sk-toggleable__label-arrow:before {content: \"▾\";}#sk-container-id-1 div.sk-estimator input.sk-toggleable__control:checked~label.sk-toggleable__label {background-color: #d4ebff;}#sk-container-id-1 div.sk-label input.sk-toggleable__control:checked~label.sk-toggleable__label {background-color: #d4ebff;}#sk-container-id-1 input.sk-hidden--visually {border: 0;clip: rect(1px 1px 1px 1px);clip: rect(1px, 1px, 1px, 1px);height: 1px;margin: -1px;overflow: hidden;padding: 0;position: absolute;width: 1px;}#sk-container-id-1 div.sk-estimator {font-family: monospace;background-color: #f0f8ff;border: 1px dotted black;border-radius: 0.25em;box-sizing: border-box;margin-bottom: 0.5em;}#sk-container-id-1 div.sk-estimator:hover {background-color: #d4ebff;}#sk-container-id-1 div.sk-parallel-item::after {content: \"\";width: 100%;border-bottom: 1px solid gray;flex-grow: 1;}#sk-container-id-1 div.sk-label:hover label.sk-toggleable__label {background-color: #d4ebff;}#sk-container-id-1 div.sk-serial::before {content: \"\";position: absolute;border-left: 1px solid gray;box-sizing: border-box;top: 0;bottom: 0;left: 50%;z-index: 0;}#sk-container-id-1 div.sk-serial {display: flex;flex-direction: column;align-items: center;background-color: white;padding-right: 0.2em;padding-left: 0.2em;position: relative;}#sk-container-id-1 div.sk-item {position: relative;z-index: 1;}#sk-container-id-1 div.sk-parallel {display: flex;align-items: stretch;justify-content: center;background-color: white;position: relative;}#sk-container-id-1 div.sk-item::before, #sk-container-id-1 div.sk-parallel-item::before {content: \"\";position: absolute;border-left: 1px solid gray;box-sizing: border-box;top: 0;bottom: 0;left: 50%;z-index: -1;}#sk-container-id-1 div.sk-parallel-item {display: flex;flex-direction: column;z-index: 1;position: relative;background-color: white;}#sk-container-id-1 div.sk-parallel-item:first-child::after {align-self: flex-end;width: 50%;}#sk-container-id-1 div.sk-parallel-item:last-child::after {align-self: flex-start;width: 50%;}#sk-container-id-1 div.sk-parallel-item:only-child::after {width: 0;}#sk-container-id-1 div.sk-dashed-wrapped {border: 1px dashed gray;margin: 0 0.4em 0.5em 0.4em;box-sizing: border-box;padding-bottom: 0.4em;background-color: white;}#sk-container-id-1 div.sk-label label {font-family: monospace;font-weight: bold;display: inline-block;line-height: 1.2em;}#sk-container-id-1 div.sk-label-container {text-align: center;}#sk-container-id-1 div.sk-container {/* jupyter's `normalize.less` sets `[hidden] { display: none; }` but bootstrap.min.css set `[hidden] { display: none !important; }` so we also need the `!important` here to be able to override the default hidden behavior on the sphinx rendered scikit-learn.org. See: https://github.com/scikit-learn/scikit-learn/issues/21755 */display: inline-block !important;position: relative;}#sk-container-id-1 div.sk-text-repr-fallback {display: none;}</style><div id=\"sk-container-id-1\" class=\"sk-top-container\"><div class=\"sk-text-repr-fallback\"><pre>KNeighborsClassifier()</pre><b>In a Jupyter environment, please rerun this cell to show the HTML representation or trust the notebook. <br />On GitHub, the HTML representation is unable to render, please try loading this page with nbviewer.org.</b></div><div class=\"sk-container\" hidden><div class=\"sk-item\"><div class=\"sk-estimator sk-toggleable\"><input class=\"sk-toggleable__control sk-hidden--visually\" id=\"sk-estimator-id-1\" type=\"checkbox\" checked><label for=\"sk-estimator-id-1\" class=\"sk-toggleable__label sk-toggleable__label-arrow\">KNeighborsClassifier</label><div class=\"sk-toggleable__content\"><pre>KNeighborsClassifier()</pre></div></div></div></div></div>"
      ],
      "text/plain": [
       "KNeighborsClassifier()"
      ]
     },
     "execution_count": 11,
     "metadata": {},
     "output_type": "execute_result"
    }
   ],
   "source": [
    "knn.fit(x_train,y_train)"
   ]
  },
  {
   "cell_type": "code",
   "execution_count": 12,
   "id": "de7e4d01",
   "metadata": {},
   "outputs": [
    {
     "name": "stdout",
     "output_type": "stream",
     "text": [
      "10.442799091339111\n"
     ]
    }
   ],
   "source": [
    "import time\n",
    "start = time.time()\n",
    "y_pred = knn.predict(x_test)\n",
    "print(time.time() - start)"
   ]
  },
  {
   "cell_type": "code",
   "execution_count": 13,
   "id": "d099afb8",
   "metadata": {},
   "outputs": [
    {
     "data": {
      "text/plain": [
       "0.9648809523809524"
      ]
     },
     "execution_count": 13,
     "metadata": {},
     "output_type": "execute_result"
    }
   ],
   "source": [
    "from sklearn.metrics import accuracy_score\n",
    "accuracy_score(y_test,y_pred)"
   ]
  },
  {
   "cell_type": "markdown",
   "id": "e1611ced",
   "metadata": {},
   "source": [
    "# NOW WITH PCA."
   ]
  },
  {
   "cell_type": "code",
   "execution_count": 14,
   "id": "c4819506",
   "metadata": {},
   "outputs": [],
   "source": [
    "## STEP 1- MEAN CENTRIC.\n",
    "from sklearn.preprocessing import StandardScaler\n",
    "scaler = StandardScaler()\n",
    "x_train = scaler.fit_transform(x_train)\n",
    "x_test = scaler.transform(x_test)"
   ]
  },
  {
   "cell_type": "code",
   "execution_count": 15,
   "id": "55396633",
   "metadata": {},
   "outputs": [],
   "source": [
    "## PCA\n",
    "## n_components=None means , it will give the same amount of features, we change it to 100 or 200. \n",
    "from sklearn.decomposition import PCA\n",
    "pca = PCA(n_components=None)\n",
    "x_train = pca.fit_transform(x_train)\n",
    "x_test = pca.transform(x_test)"
   ]
  },
  {
   "cell_type": "code",
   "execution_count": 16,
   "id": "d05ebb4f",
   "metadata": {},
   "outputs": [
    {
     "data": {
      "text/plain": [
       "(33600, 784)"
      ]
     },
     "execution_count": 16,
     "metadata": {},
     "output_type": "execute_result"
    }
   ],
   "source": [
    "x_train.shape"
   ]
  },
  {
   "cell_type": "code",
   "execution_count": 17,
   "id": "494a8322",
   "metadata": {},
   "outputs": [],
   "source": [
    "## PCA\n",
    "## n_components=None means , it will give the same amount of features, we change it to 100 or 200. \n",
    "from sklearn.decomposition import PCA\n",
    "pca = PCA(n_components=100)\n",
    "x_train_trf = pca.fit_transform(x_train)\n",
    "x_test_trf = pca.transform(x_test)"
   ]
  },
  {
   "cell_type": "code",
   "execution_count": 18,
   "id": "5058fa5a",
   "metadata": {},
   "outputs": [
    {
     "data": {
      "text/plain": [
       "(33600, 100)"
      ]
     },
     "execution_count": 18,
     "metadata": {},
     "output_type": "execute_result"
    }
   ],
   "source": [
    "## Now the Features are changed to 100.\n",
    "x_train_trf.shape"
   ]
  },
  {
   "cell_type": "code",
   "execution_count": 19,
   "id": "1e7250d2",
   "metadata": {},
   "outputs": [
    {
     "data": {
      "text/html": [
       "<style>#sk-container-id-2 {color: black;background-color: white;}#sk-container-id-2 pre{padding: 0;}#sk-container-id-2 div.sk-toggleable {background-color: white;}#sk-container-id-2 label.sk-toggleable__label {cursor: pointer;display: block;width: 100%;margin-bottom: 0;padding: 0.3em;box-sizing: border-box;text-align: center;}#sk-container-id-2 label.sk-toggleable__label-arrow:before {content: \"▸\";float: left;margin-right: 0.25em;color: #696969;}#sk-container-id-2 label.sk-toggleable__label-arrow:hover:before {color: black;}#sk-container-id-2 div.sk-estimator:hover label.sk-toggleable__label-arrow:before {color: black;}#sk-container-id-2 div.sk-toggleable__content {max-height: 0;max-width: 0;overflow: hidden;text-align: left;background-color: #f0f8ff;}#sk-container-id-2 div.sk-toggleable__content pre {margin: 0.2em;color: black;border-radius: 0.25em;background-color: #f0f8ff;}#sk-container-id-2 input.sk-toggleable__control:checked~div.sk-toggleable__content {max-height: 200px;max-width: 100%;overflow: auto;}#sk-container-id-2 input.sk-toggleable__control:checked~label.sk-toggleable__label-arrow:before {content: \"▾\";}#sk-container-id-2 div.sk-estimator input.sk-toggleable__control:checked~label.sk-toggleable__label {background-color: #d4ebff;}#sk-container-id-2 div.sk-label input.sk-toggleable__control:checked~label.sk-toggleable__label {background-color: #d4ebff;}#sk-container-id-2 input.sk-hidden--visually {border: 0;clip: rect(1px 1px 1px 1px);clip: rect(1px, 1px, 1px, 1px);height: 1px;margin: -1px;overflow: hidden;padding: 0;position: absolute;width: 1px;}#sk-container-id-2 div.sk-estimator {font-family: monospace;background-color: #f0f8ff;border: 1px dotted black;border-radius: 0.25em;box-sizing: border-box;margin-bottom: 0.5em;}#sk-container-id-2 div.sk-estimator:hover {background-color: #d4ebff;}#sk-container-id-2 div.sk-parallel-item::after {content: \"\";width: 100%;border-bottom: 1px solid gray;flex-grow: 1;}#sk-container-id-2 div.sk-label:hover label.sk-toggleable__label {background-color: #d4ebff;}#sk-container-id-2 div.sk-serial::before {content: \"\";position: absolute;border-left: 1px solid gray;box-sizing: border-box;top: 0;bottom: 0;left: 50%;z-index: 0;}#sk-container-id-2 div.sk-serial {display: flex;flex-direction: column;align-items: center;background-color: white;padding-right: 0.2em;padding-left: 0.2em;position: relative;}#sk-container-id-2 div.sk-item {position: relative;z-index: 1;}#sk-container-id-2 div.sk-parallel {display: flex;align-items: stretch;justify-content: center;background-color: white;position: relative;}#sk-container-id-2 div.sk-item::before, #sk-container-id-2 div.sk-parallel-item::before {content: \"\";position: absolute;border-left: 1px solid gray;box-sizing: border-box;top: 0;bottom: 0;left: 50%;z-index: -1;}#sk-container-id-2 div.sk-parallel-item {display: flex;flex-direction: column;z-index: 1;position: relative;background-color: white;}#sk-container-id-2 div.sk-parallel-item:first-child::after {align-self: flex-end;width: 50%;}#sk-container-id-2 div.sk-parallel-item:last-child::after {align-self: flex-start;width: 50%;}#sk-container-id-2 div.sk-parallel-item:only-child::after {width: 0;}#sk-container-id-2 div.sk-dashed-wrapped {border: 1px dashed gray;margin: 0 0.4em 0.5em 0.4em;box-sizing: border-box;padding-bottom: 0.4em;background-color: white;}#sk-container-id-2 div.sk-label label {font-family: monospace;font-weight: bold;display: inline-block;line-height: 1.2em;}#sk-container-id-2 div.sk-label-container {text-align: center;}#sk-container-id-2 div.sk-container {/* jupyter's `normalize.less` sets `[hidden] { display: none; }` but bootstrap.min.css set `[hidden] { display: none !important; }` so we also need the `!important` here to be able to override the default hidden behavior on the sphinx rendered scikit-learn.org. See: https://github.com/scikit-learn/scikit-learn/issues/21755 */display: inline-block !important;position: relative;}#sk-container-id-2 div.sk-text-repr-fallback {display: none;}</style><div id=\"sk-container-id-2\" class=\"sk-top-container\"><div class=\"sk-text-repr-fallback\"><pre>KNeighborsClassifier()</pre><b>In a Jupyter environment, please rerun this cell to show the HTML representation or trust the notebook. <br />On GitHub, the HTML representation is unable to render, please try loading this page with nbviewer.org.</b></div><div class=\"sk-container\" hidden><div class=\"sk-item\"><div class=\"sk-estimator sk-toggleable\"><input class=\"sk-toggleable__control sk-hidden--visually\" id=\"sk-estimator-id-2\" type=\"checkbox\" checked><label for=\"sk-estimator-id-2\" class=\"sk-toggleable__label sk-toggleable__label-arrow\">KNeighborsClassifier</label><div class=\"sk-toggleable__content\"><pre>KNeighborsClassifier()</pre></div></div></div></div></div>"
      ],
      "text/plain": [
       "KNeighborsClassifier()"
      ]
     },
     "execution_count": 19,
     "metadata": {},
     "output_type": "execute_result"
    }
   ],
   "source": [
    "knn = KNeighborsClassifier()\n",
    "knn.fit(x_train_trf,y_train)"
   ]
  },
  {
   "cell_type": "code",
   "execution_count": 20,
   "id": "05ea8a6d",
   "metadata": {},
   "outputs": [],
   "source": [
    "y_pred = knn.predict(x_test_trf)"
   ]
  },
  {
   "cell_type": "code",
   "execution_count": 21,
   "id": "24d6a24b",
   "metadata": {},
   "outputs": [
    {
     "data": {
      "text/plain": [
       "0.9545238095238096"
      ]
     },
     "execution_count": 21,
     "metadata": {},
     "output_type": "execute_result"
    }
   ],
   "source": [
    "accuracy_score(y_test,y_pred)"
   ]
  },
  {
   "cell_type": "code",
   "execution_count": 22,
   "id": "28f4c04b",
   "metadata": {},
   "outputs": [
    {
     "name": "stdout",
     "output_type": "stream",
     "text": [
      "i = 1 , accuracy_score = 0.25916666666666666\n",
      "i = 2 , accuracy_score = 0.32416666666666666\n",
      "i = 3 , accuracy_score = 0.5105952380952381\n",
      "i = 4 , accuracy_score = 0.6663095238095238\n",
      "i = 5 , accuracy_score = 0.7376190476190476\n",
      "i = 6 , accuracy_score = 0.8225\n",
      "i = 7 , accuracy_score = 0.843452380952381\n",
      "i = 8 , accuracy_score = 0.8721428571428571\n",
      "i = 9 , accuracy_score = 0.8867857142857143\n",
      "i = 10 , accuracy_score = 0.905952380952381\n",
      "i = 11 , accuracy_score = 0.9114285714285715\n",
      "i = 12 , accuracy_score = 0.9182142857142858\n",
      "i = 13 , accuracy_score = 0.9286904761904762\n",
      "i = 14 , accuracy_score = 0.9339285714285714\n",
      "i = 15 , accuracy_score = 0.9385714285714286\n",
      "i = 16 , accuracy_score = 0.9385714285714286\n",
      "i = 17 , accuracy_score = 0.9408333333333333\n",
      "i = 18 , accuracy_score = 0.9404761904761905\n",
      "i = 19 , accuracy_score = 0.9419047619047619\n",
      "i = 20 , accuracy_score = 0.9439285714285715\n",
      "i = 21 , accuracy_score = 0.9436904761904762\n",
      "i = 22 , accuracy_score = 0.9434523809523809\n",
      "i = 23 , accuracy_score = 0.9444047619047619\n",
      "i = 24 , accuracy_score = 0.9448809523809524\n",
      "i = 25 , accuracy_score = 0.9482142857142857\n",
      "i = 26 , accuracy_score = 0.9485714285714286\n",
      "i = 27 , accuracy_score = 0.9477380952380953\n",
      "i = 28 , accuracy_score = 0.9471428571428572\n",
      "i = 29 , accuracy_score = 0.9486904761904762\n",
      "i = 30 , accuracy_score = 0.9491666666666667\n",
      "i = 31 , accuracy_score = 0.9513095238095238\n",
      "i = 32 , accuracy_score = 0.9517857142857142\n",
      "i = 33 , accuracy_score = 0.9508333333333333\n",
      "i = 34 , accuracy_score = 0.9504761904761905\n",
      "i = 35 , accuracy_score = 0.9514285714285714\n",
      "i = 36 , accuracy_score = 0.9519047619047619\n",
      "i = 37 , accuracy_score = 0.9522619047619048\n",
      "i = 38 , accuracy_score = 0.9534523809523809\n",
      "i = 39 , accuracy_score = 0.9526190476190476\n",
      "i = 40 , accuracy_score = 0.9533333333333334\n",
      "i = 41 , accuracy_score = 0.9520238095238095\n",
      "i = 42 , accuracy_score = 0.9529761904761904\n",
      "i = 43 , accuracy_score = 0.9539285714285715\n",
      "i = 44 , accuracy_score = 0.9536904761904762\n"
     ]
    },
    {
     "ename": "KeyboardInterrupt",
     "evalue": "",
     "output_type": "error",
     "traceback": [
      "\u001b[1;31m---------------------------------------------------------------------------\u001b[0m",
      "\u001b[1;31mKeyboardInterrupt\u001b[0m                         Traceback (most recent call last)",
      "Input \u001b[1;32mIn [22]\u001b[0m, in \u001b[0;36m<cell line: 1>\u001b[1;34m()\u001b[0m\n\u001b[0;32m      1\u001b[0m \u001b[38;5;28;01mfor\u001b[39;00m i \u001b[38;5;129;01min\u001b[39;00m \u001b[38;5;28mrange\u001b[39m(\u001b[38;5;241m1\u001b[39m,\u001b[38;5;241m785\u001b[39m):\n\u001b[0;32m      2\u001b[0m        pca \u001b[38;5;241m=\u001b[39m PCA(n_components\u001b[38;5;241m=\u001b[39mi)\n\u001b[1;32m----> 3\u001b[0m        x_train_trf \u001b[38;5;241m=\u001b[39m \u001b[43mpca\u001b[49m\u001b[38;5;241;43m.\u001b[39;49m\u001b[43mfit_transform\u001b[49m\u001b[43m(\u001b[49m\u001b[43mx_train\u001b[49m\u001b[43m)\u001b[49m\n\u001b[0;32m      4\u001b[0m        x_test_trf \u001b[38;5;241m=\u001b[39m pca\u001b[38;5;241m.\u001b[39mtransform(x_test)\n\u001b[0;32m      6\u001b[0m        knn \u001b[38;5;241m=\u001b[39m KNeighborsClassifier()\n",
      "File \u001b[1;32m~\\anaconda3\\lib\\site-packages\\sklearn\\decomposition\\_pca.py:433\u001b[0m, in \u001b[0;36mPCA.fit_transform\u001b[1;34m(self, X, y)\u001b[0m\n\u001b[0;32m    411\u001b[0m \u001b[38;5;28;01mdef\u001b[39;00m \u001b[38;5;21mfit_transform\u001b[39m(\u001b[38;5;28mself\u001b[39m, X, y\u001b[38;5;241m=\u001b[39m\u001b[38;5;28;01mNone\u001b[39;00m):\n\u001b[0;32m    412\u001b[0m     \u001b[38;5;124;03m\"\"\"Fit the model with X and apply the dimensionality reduction on X.\u001b[39;00m\n\u001b[0;32m    413\u001b[0m \n\u001b[0;32m    414\u001b[0m \u001b[38;5;124;03m    Parameters\u001b[39;00m\n\u001b[1;32m   (...)\u001b[0m\n\u001b[0;32m    431\u001b[0m \u001b[38;5;124;03m    C-ordered array, use 'np.ascontiguousarray'.\u001b[39;00m\n\u001b[0;32m    432\u001b[0m \u001b[38;5;124;03m    \"\"\"\u001b[39;00m\n\u001b[1;32m--> 433\u001b[0m     U, S, Vt \u001b[38;5;241m=\u001b[39m \u001b[38;5;28;43mself\u001b[39;49m\u001b[38;5;241;43m.\u001b[39;49m\u001b[43m_fit\u001b[49m\u001b[43m(\u001b[49m\u001b[43mX\u001b[49m\u001b[43m)\u001b[49m\n\u001b[0;32m    434\u001b[0m     U \u001b[38;5;241m=\u001b[39m U[:, : \u001b[38;5;28mself\u001b[39m\u001b[38;5;241m.\u001b[39mn_components_]\n\u001b[0;32m    436\u001b[0m     \u001b[38;5;28;01mif\u001b[39;00m \u001b[38;5;28mself\u001b[39m\u001b[38;5;241m.\u001b[39mwhiten:\n\u001b[0;32m    437\u001b[0m         \u001b[38;5;66;03m# X_new = X * V / S * sqrt(n_samples) = U * sqrt(n_samples)\u001b[39;00m\n",
      "File \u001b[1;32m~\\anaconda3\\lib\\site-packages\\sklearn\\decomposition\\_pca.py:485\u001b[0m, in \u001b[0;36mPCA._fit\u001b[1;34m(self, X)\u001b[0m\n\u001b[0;32m    483\u001b[0m     \u001b[38;5;28;01mreturn\u001b[39;00m \u001b[38;5;28mself\u001b[39m\u001b[38;5;241m.\u001b[39m_fit_full(X, n_components)\n\u001b[0;32m    484\u001b[0m \u001b[38;5;28;01melif\u001b[39;00m \u001b[38;5;28mself\u001b[39m\u001b[38;5;241m.\u001b[39m_fit_svd_solver \u001b[38;5;129;01min\u001b[39;00m [\u001b[38;5;124m\"\u001b[39m\u001b[38;5;124marpack\u001b[39m\u001b[38;5;124m\"\u001b[39m, \u001b[38;5;124m\"\u001b[39m\u001b[38;5;124mrandomized\u001b[39m\u001b[38;5;124m\"\u001b[39m]:\n\u001b[1;32m--> 485\u001b[0m     \u001b[38;5;28;01mreturn\u001b[39;00m \u001b[38;5;28;43mself\u001b[39;49m\u001b[38;5;241;43m.\u001b[39;49m\u001b[43m_fit_truncated\u001b[49m\u001b[43m(\u001b[49m\u001b[43mX\u001b[49m\u001b[43m,\u001b[49m\u001b[43m \u001b[49m\u001b[43mn_components\u001b[49m\u001b[43m,\u001b[49m\u001b[43m \u001b[49m\u001b[38;5;28;43mself\u001b[39;49m\u001b[38;5;241;43m.\u001b[39;49m\u001b[43m_fit_svd_solver\u001b[49m\u001b[43m)\u001b[49m\n\u001b[0;32m    486\u001b[0m \u001b[38;5;28;01melse\u001b[39;00m:\n\u001b[0;32m    487\u001b[0m     \u001b[38;5;28;01mraise\u001b[39;00m \u001b[38;5;167;01mValueError\u001b[39;00m(\n\u001b[0;32m    488\u001b[0m         \u001b[38;5;124m\"\u001b[39m\u001b[38;5;124mUnrecognized svd_solver=\u001b[39m\u001b[38;5;124m'\u001b[39m\u001b[38;5;132;01m{0}\u001b[39;00m\u001b[38;5;124m'\u001b[39m\u001b[38;5;124m\"\u001b[39m\u001b[38;5;241m.\u001b[39mformat(\u001b[38;5;28mself\u001b[39m\u001b[38;5;241m.\u001b[39m_fit_svd_solver)\n\u001b[0;32m    489\u001b[0m     )\n",
      "File \u001b[1;32m~\\anaconda3\\lib\\site-packages\\sklearn\\decomposition\\_pca.py:627\u001b[0m, in \u001b[0;36mPCA._fit_truncated\u001b[1;34m(self, X, n_components, svd_solver)\u001b[0m\n\u001b[0;32m    625\u001b[0m N \u001b[38;5;241m=\u001b[39m X\u001b[38;5;241m.\u001b[39mshape[\u001b[38;5;241m0\u001b[39m] \u001b[38;5;241m-\u001b[39m \u001b[38;5;241m1\u001b[39m\n\u001b[0;32m    626\u001b[0m np\u001b[38;5;241m.\u001b[39msquare(X, out\u001b[38;5;241m=\u001b[39mX)\n\u001b[1;32m--> 627\u001b[0m \u001b[43mnp\u001b[49m\u001b[38;5;241;43m.\u001b[39;49m\u001b[43msum\u001b[49m\u001b[43m(\u001b[49m\u001b[43mX\u001b[49m\u001b[43m,\u001b[49m\u001b[43m \u001b[49m\u001b[43maxis\u001b[49m\u001b[38;5;241;43m=\u001b[39;49m\u001b[38;5;241;43m0\u001b[39;49m\u001b[43m,\u001b[49m\u001b[43m \u001b[49m\u001b[43mout\u001b[49m\u001b[38;5;241;43m=\u001b[39;49m\u001b[43mX\u001b[49m\u001b[43m[\u001b[49m\u001b[38;5;241;43m0\u001b[39;49m\u001b[43m]\u001b[49m\u001b[43m)\u001b[49m\n\u001b[0;32m    628\u001b[0m total_var \u001b[38;5;241m=\u001b[39m (X[\u001b[38;5;241m0\u001b[39m] \u001b[38;5;241m/\u001b[39m N)\u001b[38;5;241m.\u001b[39msum()\n\u001b[0;32m    630\u001b[0m \u001b[38;5;28mself\u001b[39m\u001b[38;5;241m.\u001b[39mexplained_variance_ratio_ \u001b[38;5;241m=\u001b[39m \u001b[38;5;28mself\u001b[39m\u001b[38;5;241m.\u001b[39mexplained_variance_ \u001b[38;5;241m/\u001b[39m total_var\n",
      "File \u001b[1;32m<__array_function__ internals>:5\u001b[0m, in \u001b[0;36msum\u001b[1;34m(*args, **kwargs)\u001b[0m\n",
      "File \u001b[1;32m~\\anaconda3\\lib\\site-packages\\numpy\\core\\fromnumeric.py:2259\u001b[0m, in \u001b[0;36msum\u001b[1;34m(a, axis, dtype, out, keepdims, initial, where)\u001b[0m\n\u001b[0;32m   2256\u001b[0m         \u001b[38;5;28;01mreturn\u001b[39;00m out\n\u001b[0;32m   2257\u001b[0m     \u001b[38;5;28;01mreturn\u001b[39;00m res\n\u001b[1;32m-> 2259\u001b[0m \u001b[38;5;28;01mreturn\u001b[39;00m \u001b[43m_wrapreduction\u001b[49m\u001b[43m(\u001b[49m\u001b[43ma\u001b[49m\u001b[43m,\u001b[49m\u001b[43m \u001b[49m\u001b[43mnp\u001b[49m\u001b[38;5;241;43m.\u001b[39;49m\u001b[43madd\u001b[49m\u001b[43m,\u001b[49m\u001b[43m \u001b[49m\u001b[38;5;124;43m'\u001b[39;49m\u001b[38;5;124;43msum\u001b[39;49m\u001b[38;5;124;43m'\u001b[39;49m\u001b[43m,\u001b[49m\u001b[43m \u001b[49m\u001b[43maxis\u001b[49m\u001b[43m,\u001b[49m\u001b[43m \u001b[49m\u001b[43mdtype\u001b[49m\u001b[43m,\u001b[49m\u001b[43m \u001b[49m\u001b[43mout\u001b[49m\u001b[43m,\u001b[49m\u001b[43m \u001b[49m\u001b[43mkeepdims\u001b[49m\u001b[38;5;241;43m=\u001b[39;49m\u001b[43mkeepdims\u001b[49m\u001b[43m,\u001b[49m\n\u001b[0;32m   2260\u001b[0m \u001b[43m                      \u001b[49m\u001b[43minitial\u001b[49m\u001b[38;5;241;43m=\u001b[39;49m\u001b[43minitial\u001b[49m\u001b[43m,\u001b[49m\u001b[43m \u001b[49m\u001b[43mwhere\u001b[49m\u001b[38;5;241;43m=\u001b[39;49m\u001b[43mwhere\u001b[49m\u001b[43m)\u001b[49m\n",
      "File \u001b[1;32m~\\anaconda3\\lib\\site-packages\\numpy\\core\\fromnumeric.py:86\u001b[0m, in \u001b[0;36m_wrapreduction\u001b[1;34m(obj, ufunc, method, axis, dtype, out, **kwargs)\u001b[0m\n\u001b[0;32m     83\u001b[0m         \u001b[38;5;28;01melse\u001b[39;00m:\n\u001b[0;32m     84\u001b[0m             \u001b[38;5;28;01mreturn\u001b[39;00m reduction(axis\u001b[38;5;241m=\u001b[39maxis, out\u001b[38;5;241m=\u001b[39mout, \u001b[38;5;241m*\u001b[39m\u001b[38;5;241m*\u001b[39mpasskwargs)\n\u001b[1;32m---> 86\u001b[0m \u001b[38;5;28;01mreturn\u001b[39;00m ufunc\u001b[38;5;241m.\u001b[39mreduce(obj, axis, dtype, out, \u001b[38;5;241m*\u001b[39m\u001b[38;5;241m*\u001b[39mpasskwargs)\n",
      "\u001b[1;31mKeyboardInterrupt\u001b[0m: "
     ]
    }
   ],
   "source": [
    " for i in range(1,785):\n",
    "        pca = PCA(n_components=i)\n",
    "        x_train_trf = pca.fit_transform(x_train)\n",
    "        x_test_trf = pca.transform(x_test)\n",
    "        \n",
    "        knn = KNeighborsClassifier()\n",
    "        knn.fit(x_train_trf,y_train)\n",
    "        \n",
    "        y_pred = knn.predict(x_test_trf)\n",
    "        print(f\"i = {i} , accuracy_score = {accuracy_score(y_test,y_pred)}\")"
   ]
  },
  {
   "cell_type": "code",
   "execution_count": 24,
   "id": "8857ea18",
   "metadata": {},
   "outputs": [
    {
     "name": "stdout",
     "output_type": "stream",
     "text": [
      "The shape of x_train_trf is (33600, 44)\n",
      "The shape of x_test_trf is (8400, 44)\n"
     ]
    }
   ],
   "source": [
    "print(f\"The shape of x_train_trf is {x_train_trf.shape}\")\n",
    "print(f\"The shape of x_test_trf is {x_test_trf.shape}\")"
   ]
  },
  {
   "cell_type": "code",
   "execution_count": 27,
   "id": "a4e7d78e",
   "metadata": {},
   "outputs": [
    {
     "data": {
      "text/plain": [
       "array([40.67111198, 29.17023401, 26.74459621, 20.85344792, 18.14891878,\n",
       "       15.8529825 , 13.87108101, 12.48058967, 11.02794235, 10.09582528,\n",
       "        9.63317818,  8.62785897,  8.06303054,  7.89511706,  7.44167659,\n",
       "        7.17032782,  6.73265574,  6.62743049,  6.41497826,  6.25805448,\n",
       "        5.90491335,  5.76517907,  5.52074688,  5.3199419 ,  5.1829176 ,\n",
       "        4.93401731,  4.90587187,  4.71726552,  4.49623465,  4.42828886,\n",
       "        4.32396895,  4.23325604,  4.09392172,  4.06460787,  4.02057674,\n",
       "        3.83220631,  3.81095896,  3.69578306,  3.58943879,  3.42666584,\n",
       "        3.41368199,  3.35736378,  3.26093104,  3.19974444,  3.18143995])"
      ]
     },
     "execution_count": 27,
     "metadata": {},
     "output_type": "execute_result"
    }
   ],
   "source": [
    "## Attributes of PCA\n",
    "\n",
    "## Eigen Values\n",
    "pca.explained_variance_ ## These are eigen values. since i is 45 in the loop, there are 45 eigen values"
   ]
  },
  {
   "cell_type": "code",
   "execution_count": 30,
   "id": "67043426",
   "metadata": {},
   "outputs": [
    {
     "data": {
      "text/plain": [
       "array([[ 1.00000000e+00, -6.52256027e-16, -1.00093545e-15, ...,\n",
       "         3.64922141e-33,  4.39494628e-34, -9.39120171e-34],\n",
       "       [ 6.81746326e-16,  1.00000000e+00, -1.19348975e-14, ...,\n",
       "        -7.82176217e-33,  1.77402982e-33,  1.42058451e-33],\n",
       "       [ 1.09634524e-15,  1.18793864e-14,  1.00000000e+00, ...,\n",
       "         8.13713189e-33, -6.78684048e-34, -1.43843628e-33],\n",
       "       ...,\n",
       "       [-5.83605908e-12,  1.23826680e-11, -1.32726278e-12, ...,\n",
       "         6.91551372e-32, -4.83985661e-32, -1.17230858e-32],\n",
       "       [ 6.56194358e-12,  1.13097192e-10, -1.08473536e-10, ...,\n",
       "         2.05604270e-32, -1.38941067e-32, -9.70269937e-33],\n",
       "       [-7.44916613e-12, -5.73667849e-11,  1.31231936e-10, ...,\n",
       "         2.30262672e-32,  2.05062679e-33, -8.59170818e-34]])"
      ]
     },
     "execution_count": 30,
     "metadata": {},
     "output_type": "execute_result"
    }
   ],
   "source": [
    "## Eigen vectors.\n",
    "pca.components_## There are 45 vectors in 784 space."
   ]
  },
  {
   "cell_type": "markdown",
   "id": "44b15f6c",
   "metadata": {},
   "source": [
    "# FINDING THE OPTINUM NUMBER OF PRINCIPLE COMPONENTS."
   ]
  },
  {
   "cell_type": "markdown",
   "id": "42e7e9e2",
   "metadata": {},
   "source": [
    "Every single eigen values tells us the variance given by the corresponding eigen vector(PC1,PC2..)<br>\n",
    "But we need to convert them into percentage value.\n",
    "\n",
    "**We have to take that many components whose overall percentage is 90%**\n",
    "\n",
    "suppose, x is denoted as eigen values.\n",
    "\n",
    "we have x1,x2,x3,x4,x5,x6,x7,x8,x9. <br>\n",
    "And when we do this calculation<br>\n",
    "{(x1+x2+x3+x4+x5+x6)/summation(x1,x2,x3,x4,x5,x6,x7,x8,x9)} x 100 = 90%. <br>\n",
    "Then we will take only 6 components."
   ]
  },
  {
   "cell_type": "code",
   "execution_count": 34,
   "id": "e78a62fe",
   "metadata": {},
   "outputs": [],
   "source": [
    "pca = PCA(n_components=None)\n",
    "x_train_trf2 = pca.fit_transform(x_train)\n",
    "x_test_trf2 = pca.fit_transform(x_test)"
   ]
  },
  {
   "cell_type": "code",
   "execution_count": 35,
   "id": "1e33bde8",
   "metadata": {},
   "outputs": [
    {
     "data": {
      "text/plain": [
       "(784,)"
      ]
     },
     "execution_count": 35,
     "metadata": {},
     "output_type": "execute_result"
    }
   ],
   "source": [
    "pca.explained_variance_.shape"
   ]
  },
  {
   "cell_type": "code",
   "execution_count": 37,
   "id": "7222e435",
   "metadata": {},
   "outputs": [
    {
     "data": {
      "text/plain": [
       "array([0.44085413, 0.52967954, 0.55599861, 0.5746144 , 0.59208444,\n",
       "       0.60829425, 0.62144214, 0.63296547, 0.64301444, 0.65186491,\n",
       "       0.66010921, 0.66752365, 0.67458846, 0.6812157 , 0.68779694,\n",
       "       0.69412658, 0.70006253, 0.70589273, 0.71152469, 0.71706969,\n",
       "       0.7223117 , 0.7273664 , 0.73227288, 0.7371033 , 0.74178379,\n",
       "       0.74629945, 0.75071207, 0.75480805, 0.75884578, 0.76276093,\n",
       "       0.76655628, 0.77023803, 0.773757  , 0.77714048, 0.78044299,\n",
       "       0.7836703 , 0.78680644, 0.78983423, 0.79277379, 0.79561433,\n",
       "       0.79843656, 0.80124174, 0.80393726, 0.80659643, 0.80924156,\n",
       "       0.81178074, 0.81427147, 0.81673992, 0.81918024, 0.82154849,\n",
       "       0.82387757, 0.82615598, 0.82836536, 0.83053629, 0.83265536,\n",
       "       0.83474808, 0.83683309, 0.83886351, 0.84081051, 0.84275011,\n",
       "       0.84466232, 0.84653634, 0.84838243, 0.85016293, 0.85193234,\n",
       "       0.85369586, 0.85541788, 0.85708229, 0.85872741, 0.86035976,\n",
       "       0.86193664, 0.86350778, 0.86506727, 0.86657887, 0.868075  ,\n",
       "       0.86955362, 0.87100501, 0.87244109, 0.87385701, 0.87524768,\n",
       "       0.87661975, 0.8779784 , 0.87932228, 0.88064326, 0.8819413 ,\n",
       "       0.88322938, 0.88449829, 0.8857437 , 0.88697601, 0.88820484,\n",
       "       0.8894106 , 0.89060378, 0.89178735, 0.89294984, 0.89410141,\n",
       "       0.8952457 , 0.8963629 , 0.89746891, 0.89856737, 0.89965132,\n",
       "       0.90072026, 0.90177579, 0.90281669, 0.90384477, 0.90486566,\n",
       "       0.90585438, 0.90682609, 0.90778721, 0.90873324, 0.90967764,\n",
       "       0.91060328, 0.91151066, 0.91240509, 0.91329365, 0.91417352,\n",
       "       0.91503788, 0.91589346, 0.91673904, 0.91757314, 0.91838609,\n",
       "       0.91919534, 0.91999147, 0.92077904, 0.9215532 , 0.92232178,\n",
       "       0.92308201, 0.92383009, 0.92457277, 0.92530332, 0.92602503,\n",
       "       0.92674211, 0.9274537 , 0.92815706, 0.92884979, 0.92953272,\n",
       "       0.93020288, 0.93086493, 0.93151692, 0.9321639 , 0.93280749,\n",
       "       0.93344416, 0.9340713 , 0.93469324, 0.9353108 , 0.93592397,\n",
       "       0.93653559, 0.93712866, 0.93771892, 0.93830462, 0.9388855 ,\n",
       "       0.93946089, 0.94002358, 0.94058474, 0.94113898, 0.94168384,\n",
       "       0.94222365, 0.94276042, 0.94329082, 0.94381319, 0.94432827,\n",
       "       0.94483482, 0.9453376 , 0.94583774, 0.94632893, 0.94681729,\n",
       "       0.947296  , 0.94776958, 0.94823943, 0.94870488, 0.94916366,\n",
       "       0.94962096, 0.95007368, 0.95052115, 0.95096448, 0.95140156,\n",
       "       0.95183243, 0.95225784, 0.95267942, 0.95309586, 0.95350869,\n",
       "       0.95391798, 0.9543238 , 0.95472488, 0.95511813, 0.95550742,\n",
       "       0.95589533, 0.9562772 , 0.95665738, 0.95703511, 0.95740769,\n",
       "       0.9577749 , 0.9581376 , 0.95849706, 0.95885326, 0.95920652,\n",
       "       0.95955769, 0.95990221, 0.96024153, 0.96057684, 0.96090747,\n",
       "       0.96123588, 0.96156358, 0.96188688, 0.96220721, 0.96252501,\n",
       "       0.96283775, 0.96314921, 0.96345517, 0.96375939, 0.96406174,\n",
       "       0.96436199, 0.96466023, 0.96495444, 0.96524707, 0.96553762,\n",
       "       0.96582479, 0.96610971, 0.96638992, 0.96666735, 0.96694467,\n",
       "       0.96721869, 0.9674878 , 0.9677542 , 0.96801779, 0.96827795,\n",
       "       0.96853772, 0.96879461, 0.96905052, 0.96930529, 0.96955521,\n",
       "       0.96980353, 0.97004793, 0.97028785, 0.97052711, 0.97076267,\n",
       "       0.97099653, 0.97122963, 0.97146011, 0.97168824, 0.97191598,\n",
       "       0.97214159, 0.97236283, 0.97258302, 0.97280199, 0.9730185 ,\n",
       "       0.97323197, 0.97344495, 0.9736562 , 0.97386423, 0.97407164,\n",
       "       0.9742766 , 0.97447799, 0.97467808, 0.97487637, 0.97507412,\n",
       "       0.97526953, 0.97546397, 0.97565628, 0.97584756, 0.97603725,\n",
       "       0.97622444, 0.9764102 , 0.97659422, 0.97677683, 0.97695735,\n",
       "       0.9771351 , 0.97731179, 0.97748585, 0.97765916, 0.97783034,\n",
       "       0.97799895, 0.97816711, 0.9783337 , 0.97849791, 0.97866148,\n",
       "       0.97882347, 0.97898448, 0.97914236, 0.97929906, 0.9794553 ,\n",
       "       0.97960974, 0.9797634 , 0.97991615, 0.98006719, 0.98021733,\n",
       "       0.98036637, 0.98051373, 0.98066083, 0.98080642, 0.98095068,\n",
       "       0.98109383, 0.98123578, 0.98137667, 0.98151716, 0.98165712,\n",
       "       0.98179482, 0.98193212, 0.98206917, 0.98220417, 0.98233796,\n",
       "       0.98247136, 0.9826027 , 0.98273339, 0.98286302, 0.98299048,\n",
       "       0.98311652, 0.98324189, 0.98336546, 0.98348759, 0.98360893,\n",
       "       0.98372979, 0.98385038, 0.98396978, 0.98408846, 0.98420609,\n",
       "       0.98432263, 0.98443842, 0.98455365, 0.98466786, 0.98478126,\n",
       "       0.98489348, 0.98500475, 0.98511526, 0.98522505, 0.98533397,\n",
       "       0.98544197, 0.98554954, 0.98565604, 0.9857619 , 0.98586673,\n",
       "       0.9859704 , 0.98607377, 0.9861762 , 0.98627746, 0.98637825,\n",
       "       0.98647773, 0.98657665, 0.98667449, 0.98677221, 0.98686871,\n",
       "       0.98696459, 0.98706008, 0.98715491, 0.98724825, 0.98734122,\n",
       "       0.98743364, 0.98752535, 0.9876164 , 0.98770647, 0.98779611,\n",
       "       0.98788539, 0.98797336, 0.98806064, 0.98814771, 0.98823411,\n",
       "       0.98832007, 0.98840562, 0.98849024, 0.9885744 , 0.98865772,\n",
       "       0.98874016, 0.98882238, 0.9889042 , 0.98898583, 0.9890671 ,\n",
       "       0.98914783, 0.98922777, 0.98930728, 0.98938616, 0.98946475,\n",
       "       0.98954303, 0.9896206 , 0.98969805, 0.9897753 , 0.98985149,\n",
       "       0.98992761, 0.99000297, 0.9900781 , 0.99015257, 0.99022642,\n",
       "       0.99029977, 0.9903729 , 0.99044565, 0.99051784, 0.99058951,\n",
       "       0.99066095, 0.99073148, 0.9908014 , 0.99087102, 0.99094044,\n",
       "       0.99100958, 0.99107781, 0.99114536, 0.99121288, 0.99127976,\n",
       "       0.9913461 , 0.99141227, 0.99147735, 0.99154236, 0.99160709,\n",
       "       0.99167147, 0.99173501, 0.99179828, 0.99186134, 0.99192429,\n",
       "       0.99198657, 0.9920487 , 0.99211047, 0.99217212, 0.99223329,\n",
       "       0.99229406, 0.99235401, 0.9924133 , 0.99247256, 0.99253126,\n",
       "       0.99258958, 0.99264763, 0.99270516, 0.99276248, 0.99281955,\n",
       "       0.99287629, 0.99293276, 0.9929892 , 0.99304532, 0.99310093,\n",
       "       0.99315644, 0.99321108, 0.99326521, 0.99331919, 0.99337311,\n",
       "       0.99342682, 0.99348026, 0.99353334, 0.9935861 , 0.99363837,\n",
       "       0.9936904 , 0.99374233, 0.99379407, 0.99384505, 0.99389591,\n",
       "       0.99394645, 0.99399659, 0.99404658, 0.99409627, 0.99414561,\n",
       "       0.99419463, 0.99424339, 0.99429175, 0.99434001, 0.99438793,\n",
       "       0.99443535, 0.99448263, 0.99452978, 0.9945768 , 0.99462302,\n",
       "       0.99466919, 0.99471515, 0.99476089, 0.9948064 , 0.99485137,\n",
       "       0.99489611, 0.99494065, 0.99498496, 0.99502898, 0.99507249,\n",
       "       0.99511585, 0.995159  , 0.99520181, 0.9952446 , 0.99528724,\n",
       "       0.99532958, 0.99537163, 0.9954132 , 0.99545468, 0.99549597,\n",
       "       0.99553697, 0.99557765, 0.9956182 , 0.99565854, 0.99569852,\n",
       "       0.99573833, 0.99577787, 0.99581711, 0.99585625, 0.99589498,\n",
       "       0.99593357, 0.99597172, 0.99600981, 0.99604758, 0.9960853 ,\n",
       "       0.99612278, 0.99616015, 0.99619731, 0.9962343 , 0.996271  ,\n",
       "       0.99630761, 0.99634381, 0.99637961, 0.99641528, 0.99645069,\n",
       "       0.99648606, 0.99652128, 0.99655622, 0.99659105, 0.99662562,\n",
       "       0.99665992, 0.99669417, 0.99672807, 0.99676175, 0.99679524,\n",
       "       0.99682851, 0.99686157, 0.99689451, 0.9969272 , 0.99695975,\n",
       "       0.99699223, 0.99702425, 0.99705619, 0.99708801, 0.99711957,\n",
       "       0.99715103, 0.99718237, 0.99721354, 0.99724428, 0.9972748 ,\n",
       "       0.99730522, 0.9973356 , 0.99736569, 0.99739545, 0.99742517,\n",
       "       0.99745464, 0.99748376, 0.99751275, 0.99754167, 0.99757049,\n",
       "       0.9975992 , 0.99762786, 0.99765618, 0.99768436, 0.99771235,\n",
       "       0.99774017, 0.99776782, 0.99779532, 0.99782279, 0.99784994,\n",
       "       0.997877  , 0.99790392, 0.99793064, 0.99795722, 0.99798378,\n",
       "       0.99801002, 0.99803614, 0.99806204, 0.9980879 , 0.99811362,\n",
       "       0.99813929, 0.99816471, 0.99818992, 0.99821511, 0.99824022,\n",
       "       0.99826521, 0.99829004, 0.99831474, 0.99833915, 0.99836339,\n",
       "       0.99838751, 0.99841157, 0.99843536, 0.99845905, 0.9984826 ,\n",
       "       0.99850596, 0.99852915, 0.99855225, 0.99857518, 0.99859799,\n",
       "       0.9986206 , 0.99864315, 0.99866553, 0.99868777, 0.9987099 ,\n",
       "       0.99873189, 0.9987538 , 0.99877555, 0.99879724, 0.99881881,\n",
       "       0.99884006, 0.99886109, 0.998882  , 0.99890286, 0.99892364,\n",
       "       0.99894414, 0.99896454, 0.99898482, 0.99900506, 0.99902513,\n",
       "       0.99904497, 0.99906472, 0.9990844 , 0.99910393, 0.99912317,\n",
       "       0.99914225, 0.9991611 , 0.99917984, 0.99919851, 0.99921704,\n",
       "       0.99923548, 0.99925381, 0.99927199, 0.99929006, 0.99930807,\n",
       "       0.99932585, 0.99934348, 0.99936099, 0.99937831, 0.9993956 ,\n",
       "       0.99941283, 0.99942987, 0.99944684, 0.99946373, 0.99948035,\n",
       "       0.99949682, 0.99951322, 0.99952946, 0.99954556, 0.99956158,\n",
       "       0.99957744, 0.99959317, 0.99960879, 0.99962417, 0.9996394 ,\n",
       "       0.9996546 , 0.99966951, 0.99968442, 0.9996992 , 0.99971361,\n",
       "       0.999728  , 0.99974221, 0.99975634, 0.99977018, 0.99978383,\n",
       "       0.99979738, 0.99981087, 0.99982416, 0.99983703, 0.99984988,\n",
       "       0.99986266, 0.99987513, 0.99988742, 0.99989942, 0.99991132,\n",
       "       0.99992293, 0.99993443, 0.99994581, 0.99995688, 0.99996753,\n",
       "       0.99997786, 0.99998454, 0.99999064, 0.99999491, 0.99999908,\n",
       "       0.99999954, 0.99999991, 0.99999998, 1.        , 1.        ,\n",
       "       1.        , 1.        , 1.        , 1.        , 1.        ,\n",
       "       1.        , 1.        , 1.        , 1.        , 1.        ,\n",
       "       1.        , 1.        , 1.        , 1.        , 1.        ,\n",
       "       1.        , 1.        , 1.        , 1.        , 1.        ,\n",
       "       1.        , 1.        , 1.        , 1.        , 1.        ,\n",
       "       1.        , 1.        , 1.        , 1.        , 1.        ,\n",
       "       1.        , 1.        , 1.        , 1.        , 1.        ,\n",
       "       1.        , 1.        , 1.        , 1.        , 1.        ,\n",
       "       1.        , 1.        , 1.        , 1.        , 1.        ,\n",
       "       1.        , 1.        , 1.        , 1.        , 1.        ,\n",
       "       1.        , 1.        , 1.        , 1.        , 1.        ,\n",
       "       1.        , 1.        , 1.        , 1.        , 1.        ,\n",
       "       1.        , 1.        , 1.        , 1.        , 1.        ,\n",
       "       1.        , 1.        , 1.        , 1.        , 1.        ,\n",
       "       1.        , 1.        , 1.        , 1.        , 1.        ,\n",
       "       1.        , 1.        , 1.        , 1.        , 1.        ,\n",
       "       1.        , 1.        , 1.        , 1.        , 1.        ,\n",
       "       1.        , 1.        , 1.        , 1.        , 1.        ,\n",
       "       1.        , 1.        , 1.        , 1.        , 1.        ,\n",
       "       1.        , 1.        , 1.        , 1.        , 1.        ,\n",
       "       1.        , 1.        , 1.        , 1.        , 1.        ,\n",
       "       1.        , 1.        , 1.        , 1.        , 1.        ,\n",
       "       1.        , 1.        , 1.        , 1.        , 1.        ,\n",
       "       1.        , 1.        , 1.        , 1.        ])"
      ]
     },
     "execution_count": 37,
     "metadata": {},
     "output_type": "execute_result"
    }
   ],
   "source": [
    "np.cumsum(pca.explained_variance_ratio_)"
   ]
  },
  {
   "cell_type": "code",
   "execution_count": 38,
   "id": "5bf5aec8",
   "metadata": {},
   "outputs": [
    {
     "data": {
      "text/plain": [
       "[<matplotlib.lines.Line2D at 0x24d2f10ab80>]"
      ]
     },
     "execution_count": 38,
     "metadata": {},
     "output_type": "execute_result"
    },
    {
     "data": {
      "image/png": "[encoded data removed]",
      "text/plain": [
       "<Figure size 432x288 with 1 Axes>"
      ]
     },
     "metadata": {
      "needs_background": "light"
     },
     "output_type": "display_data"
    }
   ],
   "source": [
    "plt.plot(np.cumsum(pca.explained_variance_ratio_))"
   ]
  },
  {
   "cell_type": "markdown",
   "id": "7ae0fd07",
   "metadata": {},
   "source": [
    "Here we can see that, 90percent variance is explained by using 100 components."
   ]
  },
  {
   "cell_type": "code",
   "execution_count": null,
   "id": "eac564a9",
   "metadata": {},
   "outputs": [],
   "source": []
  }
 ],
 "metadata": {
  "kernelspec": {
   "display_name": "Python 3 (ipykernel)",
   "language": "python",
   "name": "python3"
  },
  "language_info": {
   "codemirror_mode": {
    "name": "ipython",
    "version": 3
   },
   "file_extension": ".py",
   "mimetype": "text/x-python",
   "name": "python",
   "nbconvert_exporter": "python",
   "pygments_lexer": "ipython3",
   "version": "3.9.12"
  }
 },
 "nbformat": 4,
 "nbformat_minor": 5
}
