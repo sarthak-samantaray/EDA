{
 "cells": [
  {
   "cell_type": "markdown",
   "id": "35a415e4",
   "metadata": {},
   "source": [
    "# Feature Selection Techniques."
   ]
  },
  {
   "cell_type": "code",
   "execution_count": null,
   "id": "8527638c",
   "metadata": {},
   "outputs": [],
   "source": [
    "import pandas as pd"
   ]
  },
  {
   "cell_type": "code",
   "execution_count": null,
   "id": "6eeb35b4",
   "metadata": {},
   "outputs": [],
   "source": [
    "df = pd.read_csv(\"E:/Datasets/mobiledataset.txt\")\n",
    "df"
   ]
  },
  {
   "cell_type": "markdown",
   "id": "a37b9ee5",
   "metadata": {},
   "source": [
    "# 1.Univariate Selection"
   ]
  },
  {
   "cell_type": "code",
   "execution_count": null,
   "id": "078c30b3",
   "metadata": {},
   "outputs": [],
   "source": [
    "x = df.drop(columns = ['price_range'],axis=1)\n",
    "y = df['price_range']"
   ]
  },
  {
   "cell_type": "code",
   "execution_count": null,
   "id": "01332cfe",
   "metadata": {},
   "outputs": [],
   "source": [
    "x.head(3)"
   ]
  },
  {
   "cell_type": "code",
   "execution_count": null,
   "id": "50f5a8c4",
   "metadata": {},
   "outputs": [],
   "source": [
    "y.head(3)"
   ]
  },
  {
   "cell_type": "markdown",
   "id": "11084be0",
   "metadata": {},
   "source": [
    "###### Univariate Analysis. "
   ]
  },
  {
   "cell_type": "code",
   "execution_count": null,
   "id": "eec72e62",
   "metadata": {},
   "outputs": [],
   "source": [
    "from sklearn.feature_selection import SelectKBest # Helps you to find top 5 or 10 or top k features.\n",
    "from sklearn.feature_selection import chi2 # Statistical analyis, pvalue , null or alternate hypothesis"
   ]
  },
  {
   "cell_type": "code",
   "execution_count": null,
   "id": "d5a43310",
   "metadata": {},
   "outputs": [],
   "source": [
    "## Apply SelectKBest Algorithm\n",
    "ordered_rank_features = SelectKBest(score_func=chi2,k=20)\n",
    "ordered_feature = ordered_rank_features.fit(x,y)\n",
    "ordered_feature.scores_"
   ]
  },
  {
   "cell_type": "code",
   "execution_count": null,
   "id": "6e646dc8",
   "metadata": {},
   "outputs": [],
   "source": [
    "dfscores = pd.DataFrame(ordered_feature.scores_,columns=['Score'])\n",
    "dfcolumns = pd.DataFrame(x.columns)"
   ]
  },
  {
   "cell_type": "code",
   "execution_count": null,
   "id": "2774724c",
   "metadata": {},
   "outputs": [],
   "source": [
    "feature_rank = pd.concat([dfcolumns,dfscores],axis=1)\n",
    "feature_rank"
   ]
  },
  {
   "cell_type": "code",
   "execution_count": null,
   "id": "86f1159b",
   "metadata": {},
   "outputs": [],
   "source": [
    "featur"
   ]
  },
  {
   "cell_type": "code",
   "execution_count": null,
   "id": "c58aff9e",
   "metadata": {},
   "outputs": [],
   "source": []
  }
 ],
 "metadata": {
  "kernelspec": {
   "display_name": "Python 3 (ipykernel)",
   "language": "python",
   "name": "python3"
  },
  "language_info": {
   "codemirror_mode": {
    "name": "ipython",
    "version": 3
   },
   "file_extension": ".py",
   "mimetype": "text/x-python",
   "name": "python",
   "nbconvert_exporter": "python",
   "pygments_lexer": "ipython3",
   "version": "3.9.12"
  }
 },
 "nbformat": 4,
 "nbformat_minor": 5
}
